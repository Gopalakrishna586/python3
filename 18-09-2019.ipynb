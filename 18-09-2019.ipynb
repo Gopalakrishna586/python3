{
 "cells": [
  {
   "cell_type": "code",
   "execution_count": null,
   "metadata": {},
   "outputs": [],
   "source": [
    "d={0:6,1:2,2:5,3:5,4:4,5:5,6:6,7:3,8:7,9:6}\n",
    "a=input(\"enter a number\")\n",
    "p=0\n",
    "for i in a:\n",
    "    c=d[int(i)]\n",
    "    p=p+c\n",
    "print(\"the number of match sticks\",p)\n"
   ]
  },
  {
   "cell_type": "code",
   "execution_count": 38,
   "metadata": {},
   "outputs": [
    {
     "name": "stdout",
     "output_type": "stream",
     "text": [
      "enter a commandlrrduldr\n",
      "coordinates (1, -1)\n"
     ]
    }
   ],
   "source": [
    "d={\"l\":-1,\"r\":1,\"u\":1,\"d\":-1}\n",
    "a=input(\"enter a command\")\n",
    "p=0\n",
    "q=0\n",
    "for i in a:\n",
    "    if i=='l' or i=='r':\n",
    "        c=d[i]\n",
    "        p=p+c\n",
    "    else :\n",
    "        i=='u' or i=='d'\n",
    "        c=d[i]\n",
    "        q=q+c\n",
    "print(\"coordinates\",(p,q))\n",
    "\n"
   ]
  },
  {
   "cell_type": "code",
   "execution_count": null,
   "metadata": {},
   "outputs": [],
   "source": [
    "filepath=\"./files/sample.txt"
   ]
  }
 ],
 "metadata": {
  "kernelspec": {
   "display_name": "Python 3",
   "language": "python",
   "name": "python3"
  },
  "language_info": {
   "codemirror_mode": {
    "name": "ipython",
    "version": 3
   },
   "file_extension": ".py",
   "mimetype": "text/x-python",
   "name": "python",
   "nbconvert_exporter": "python",
   "pygments_lexer": "ipython3",
   "version": "3.7.3"
  }
 },
 "nbformat": 4,
 "nbformat_minor": 2
}
