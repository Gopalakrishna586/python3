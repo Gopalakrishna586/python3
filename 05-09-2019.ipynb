{
 "cells": [
  {
   "cell_type": "markdown",
   "metadata": {},
   "source": [
    "# arthematic operations"
   ]
  },
  {
   "cell_type": "code",
   "execution_count": 11,
   "metadata": {},
   "outputs": [
    {
     "name": "stdout",
     "output_type": "stream",
     "text": [
      "enter a value4.567\n",
      "enter a value4.566\n",
      "4.567 is greater\n"
     ]
    }
   ],
   "source": [
    "a=float(input(\"enter a value\"))\n",
    "b=float(input(\"enter a value\"))\n",
    "if a>b :\n",
    "    print(a,\"is greater\")\n",
    "elif a==b:\n",
    "    print(\"both are equal\")\n",
    "else :\n",
    "    print(b,\"is greater\")"
   ]
  },
  {
   "cell_type": "code",
   "execution_count": 1,
   "metadata": {},
   "outputs": [
    {
     "name": "stdout",
     "output_type": "stream",
     "text": [
      "8\n",
      "-2\n",
      "15\n",
      "0.6\n"
     ]
    }
   ],
   "source": [
    "a=3\n",
    "b=5\n",
    "print(a+b)\n",
    "print(a-b)\n",
    "print(a*b)\n",
    "print(a/b)"
   ]
  },
  {
   "cell_type": "code",
   "execution_count": 2,
   "metadata": {},
   "outputs": [
    {
     "name": "stdout",
     "output_type": "stream",
     "text": [
      "enter a value4\n",
      "enter a value6\n",
      "10 -2 24 0.6666666666666666\n"
     ]
    }
   ],
   "source": [
    "a=int(input(\"enter a value\"))\n",
    "b=int(input(\"enter a value\"))\n",
    "c=a+b\n",
    "d=a-b\n",
    "e=a*b\n",
    "f=a/b\n",
    "print(c,d,e,f)\n"
   ]
  },
  {
   "cell_type": "markdown",
   "metadata": {},
   "source": [
    "# calender"
   ]
  },
  {
   "cell_type": "code",
   "execution_count": 18,
   "metadata": {},
   "outputs": [
    {
     "name": "stdout",
     "output_type": "stream",
     "text": [
      "enter a year2222\n",
      "enter a month10\n",
      "    October 2222\n",
      "Mo Tu We Th Fr Sa Su\n",
      "    1  2  3  4  5  6\n",
      " 7  8  9 10 11 12 13\n",
      "14 15 16 17 18 19 20\n",
      "21 22 23 24 25 26 27\n",
      "28 29 30 31\n",
      "\n"
     ]
    }
   ],
   "source": [
    "import calendar\n",
    "year=int(input(\"enter a year\"))\n",
    "month=int(input(\"enter a month\"))\n",
    "c=calendar.month(year,month)\n",
    "print(c)"
   ]
  },
  {
   "cell_type": "markdown",
   "metadata": {},
   "source": [
    "# factorial"
   ]
  },
  {
   "cell_type": "code",
   "execution_count": 29,
   "metadata": {},
   "outputs": [
    {
     "name": "stdout",
     "output_type": "stream",
     "text": [
      "6\n",
      " 720\n"
     ]
    }
   ],
   "source": [
    "a=int(input(\"\"))\n",
    "f=1\n",
    "for i in range (1,a+1):\n",
    "    f=f*i\n",
    "print(\"\",f)"
   ]
  },
  {
   "cell_type": "markdown",
   "metadata": {},
   "source": [
    "# printing of names"
   ]
  },
  {
   "cell_type": "code",
   "execution_count": 31,
   "metadata": {},
   "outputs": [
    {
     "name": "stdout",
     "output_type": "stream",
     "text": [
      "thota\n",
      "gopi\n",
      "surap\n",
      "sree\n",
      "vipparla\n",
      "sai\n",
      "nagi\n"
     ]
    }
   ],
   "source": [
    "a=[\"thota\",\"gopi\",]\n",
    "b=[\"surap\",\"sree\",\"vipparla\",\"sai\",\"nagi\"]\n",
    "for i in a:\n",
    "    print(i)\n",
    "for j in b:\n",
    "    print(j)"
   ]
  },
  {
   "cell_type": "markdown",
   "metadata": {},
   "source": [
    "# arthematic oparations using functions"
   ]
  },
  {
   "cell_type": "code",
   "execution_count": 1,
   "metadata": {},
   "outputs": [
    {
     "name": "stdout",
     "output_type": "stream",
     "text": [
      "enter a number3\n",
      "enter a number5\n",
      "8\n",
      "-2\n",
      "15\n",
      "0.6\n"
     ]
    }
   ],
   "source": [
    "def add(a,b):\n",
    "    c=a+b\n",
    "    return c\n",
    "def sub(a,b):\n",
    "    c=a-b\n",
    "    return c\n",
    "def mul(a,b):\n",
    "    c=a*b\n",
    "    return c\n",
    "def div(a,b):\n",
    "    c=a/b\n",
    "    return c\n",
    "x=int(input(\"enter a number\"))\n",
    "y=int(input(\"enter a number\"))\n",
    "print(add(x,y))\n",
    "print(sub(x,y))\n",
    "print(mul(x,y))\n",
    "print(div(x,y))"
   ]
  },
  {
   "cell_type": "markdown",
   "metadata": {},
   "source": [
    "# printing of a table"
   ]
  },
  {
   "cell_type": "code",
   "execution_count": 19,
   "metadata": {},
   "outputs": [
    {
     "name": "stdout",
     "output_type": "stream",
     "text": [
      "enter a number27\n",
      "ENTER LOWER BOUNDARY1\n",
      "ENTER UPPER BOUNDARY10\n",
      "27 * 1 = 27\n",
      "27 * 2 = 54\n",
      "27 * 3 = 81\n",
      "27 * 4 = 108\n",
      "27 * 5 = 135\n",
      "27 * 6 = 162\n",
      "27 * 7 = 189\n",
      "27 * 8 = 216\n",
      "27 * 9 = 243\n",
      "27 * 10 = 270\n"
     ]
    }
   ],
   "source": [
    "a=int(input(\"enter a number\"))\n",
    "for i in range (int(input(\"ENTER LOWER BOUNDARY\")),int(input(\"ENTER UPPER BOUNDARY\"))+1):\n",
    "    t=a*i\n",
    "    print(a,\"*\",i,\"=\",t)\n"
   ]
  },
  {
   "cell_type": "markdown",
   "metadata": {},
   "source": [
    "# GIVEN NUMBER IS EVEN OR ODD "
   ]
  },
  {
   "cell_type": "code",
   "execution_count": 21,
   "metadata": {
    "scrolled": true
   },
   "outputs": [
    {
     "name": "stdout",
     "output_type": "stream",
     "text": [
      "enter a number5\n",
      "number is odd number\n"
     ]
    }
   ],
   "source": [
    "a=int(input(\"enter a number\"))\n",
    "if a%2==0:\n",
    "    print(\"number is even number\")\n",
    "else:\n",
    "    print(\"number is odd number\")"
   ]
  },
  {
   "cell_type": "code",
   "execution_count": 27,
   "metadata": {},
   "outputs": [
    {
     "name": "stdout",
     "output_type": "stream",
     "text": [
      "enter a number35\n",
      "odd number\n"
     ]
    }
   ],
   "source": [
    "def even(a):\n",
    "    if a%2==0:\n",
    "        print(\"even number\")\n",
    "    else:\n",
    "        print(\"odd number\")\n",
    "n=int(input(\"enter a number\"))\n",
    "even(n)"
   ]
  }
 ],
 "metadata": {
  "kernelspec": {
   "display_name": "Python 3",
   "language": "python",
   "name": "python3"
  },
  "language_info": {
   "codemirror_mode": {
    "name": "ipython",
    "version": 3
   },
   "file_extension": ".py",
   "mimetype": "text/x-python",
   "name": "python",
   "nbconvert_exporter": "python",
   "pygments_lexer": "ipython3",
   "version": "3.7.3"
  }
 },
 "nbformat": 4,
 "nbformat_minor": 2
}
