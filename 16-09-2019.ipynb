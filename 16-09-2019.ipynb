{
 "cells": [
  {
   "cell_type": "markdown",
   "metadata": {},
   "source": [
    "# prime nuber in a given range"
   ]
  },
  {
   "cell_type": "code",
   "execution_count": 12,
   "metadata": {},
   "outputs": [
    {
     "name": "stdout",
     "output_type": "stream",
     "text": [
      "enter lower boundary1\n",
      "enter upper boundary10\n",
      "2\n",
      "3\n",
      "5\n",
      "7\n"
     ]
    }
   ],
   "source": [
    "a=int(input(\"enter lower boundary\"))\n",
    "b=int(input(\"enter upper boundary\"))\n",
    "c=0\n",
    "def prime(a,c):\n",
    "    for i in range(1,a+1):\n",
    "        if a%i==0:\n",
    "            c=c+1\n",
    "    if c==2:\n",
    "        print(i)\n",
    "for j in range(a,b+1):\n",
    "    prime(j,c)"
   ]
  },
  {
   "cell_type": "markdown",
   "metadata": {},
   "source": [
    "# dictionary concept"
   ]
  },
  {
   "cell_type": "code",
   "execution_count": null,
   "metadata": {},
   "outputs": [],
   "source": [
    "d={\"a\":60,\"d\":82,\"f\":36,\"c\":55}\n"
   ]
  },
  {
   "cell_type": "code",
   "execution_count": 14,
   "metadata": {},
   "outputs": [
    {
     "data": {
      "text/plain": [
       "['__class__',\n",
       " '__contains__',\n",
       " '__delattr__',\n",
       " '__delitem__',\n",
       " '__dir__',\n",
       " '__doc__',\n",
       " '__eq__',\n",
       " '__format__',\n",
       " '__ge__',\n",
       " '__getattribute__',\n",
       " '__getitem__',\n",
       " '__gt__',\n",
       " '__hash__',\n",
       " '__init__',\n",
       " '__init_subclass__',\n",
       " '__iter__',\n",
       " '__le__',\n",
       " '__len__',\n",
       " '__lt__',\n",
       " '__ne__',\n",
       " '__new__',\n",
       " '__reduce__',\n",
       " '__reduce_ex__',\n",
       " '__repr__',\n",
       " '__setattr__',\n",
       " '__setitem__',\n",
       " '__sizeof__',\n",
       " '__str__',\n",
       " '__subclasshook__',\n",
       " 'clear',\n",
       " 'copy',\n",
       " 'fromkeys',\n",
       " 'get',\n",
       " 'items',\n",
       " 'keys',\n",
       " 'pop',\n",
       " 'popitem',\n",
       " 'setdefault',\n",
       " 'update',\n",
       " 'values']"
      ]
     },
     "execution_count": 14,
     "metadata": {},
     "output_type": "execute_result"
    }
   ],
   "source": [
    "dir(dict)"
   ]
  },
  {
   "cell_type": "code",
   "execution_count": 42,
   "metadata": {},
   "outputs": [
    {
     "name": "stdout",
     "output_type": "stream",
     "text": [
      "{'a': 28, 'd': 30, 'e': 10}\n",
      "{'a': 28, 'e': 10}\n",
      "('a', 28)\n",
      "('d', 30)\n",
      "('e', 10)\n",
      "a 28\n",
      "d 30\n",
      "e 10\n"
     ]
    },
    {
     "data": {
      "text/plain": [
       "{'a': 28, 'd': 30, 'e': 10, 'g': 45}"
      ]
     },
     "execution_count": 42,
     "metadata": {},
     "output_type": "execute_result"
    }
   ],
   "source": [
    "d={\"a\":28,\"d\":30,\"e\":10}\n",
    "t=d.copy()\n",
    "t.pop(\"d\")\n",
    "print(d)\n",
    "print(t)\n",
    "for i in d.items():\n",
    "    print(i)\n",
    "for(x,y)in d.items():\n",
    "    print(x,y)\n",
    "    \n",
    "d.setdefault(\"g\",45)\n",
    "d"
   ]
  },
  {
   "cell_type": "code",
   "execution_count": 13,
   "metadata": {},
   "outputs": [
    {
     "name": "stdout",
     "output_type": "stream",
     "text": [
      "99\n",
      "91\n",
      "85\n"
     ]
    }
   ],
   "source": [
    "a={\"a\":65,\"c\":82,\"f\":36,\"d\":72,\"g\":91,\"x\":99,\"n\":85}\n",
    "f=a.copy()\n",
    "i=1\n",
    "while i<4:\n",
    "    for j in a:\n",
    "        t=max(f.values())\n",
    "        if t==a[j]:\n",
    "            print(t)\n",
    "            del f[j]\n",
    "            \n",
    "            i+=1\n",
    "        \n",
    "    "
   ]
  },
  {
   "cell_type": "markdown",
   "metadata": {},
   "source": [
    "# sets"
   ]
  },
  {
   "cell_type": "code",
   "execution_count": null,
   "metadata": {},
   "outputs": [],
   "source": []
  }
 ],
 "metadata": {
  "kernelspec": {
   "display_name": "Python 3",
   "language": "python",
   "name": "python3"
  },
  "language_info": {
   "codemirror_mode": {
    "name": "ipython",
    "version": 3
   },
   "file_extension": ".py",
   "mimetype": "text/x-python",
   "name": "python",
   "nbconvert_exporter": "python",
   "pygments_lexer": "ipython3",
   "version": "3.7.3"
  }
 },
 "nbformat": 4,
 "nbformat_minor": 2
}
