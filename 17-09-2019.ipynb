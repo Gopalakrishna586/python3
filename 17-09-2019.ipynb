{
 "cells": [
  {
   "cell_type": "code",
   "execution_count": null,
   "metadata": {},
   "outputs": [],
   "source": [
    "s={1,2,4,56,78,9234,56}\n",
    "x=s\n",
    "x\n",
    "l=list(x)\n",
    "l.sort()\n",
    "print(l[-1])\n"
   ]
  },
  {
   "cell_type": "code",
   "execution_count": 1,
   "metadata": {},
   "outputs": [
    {
     "name": "stdout",
     "output_type": "stream",
     "text": [
      "enter in which floor you are2\n",
      "in lift A(which is in ground floor)\n",
      "enter in which floor you are3\n",
      "in lift A(which is in ground floor)\n",
      "enter in which floor you are4\n",
      "in lift B(which is in top floor)\n",
      "enter in which floor you are2\n",
      "in lift A(which is in ground floor)\n",
      "enter in which floor you are1\n",
      "in lift A(which is in ground floor)\n",
      "enter in which floor you are4\n",
      "in lift B(which is in top floor)\n",
      "enter in which floor you are7\n",
      "in lift A(which is in ground floor)\n"
     ]
    }
   ],
   "source": [
    "p=0\n",
    "q=7\n",
    "x=(\"in lift A(which is in ground floor)\")\n",
    "n=(\"in lift B(which is in top floor)\")\n",
    "t=1\n",
    "a=p\n",
    "b=q\n",
    "while t<8:\n",
    "    f=int(input(\"enter in which floor you are\"))\n",
    "    if abs(f-a)>abs(f-b):\n",
    "        print(n)\n",
    "        a=q \n",
    "    elif abs(f-a)==abs(f-b):\n",
    "        print(x)\n",
    "        a=p\n",
    "    else :\n",
    "        print(x)\n",
    "        a=p\n",
    "    t+=1\n",
    "        \n",
    "    "
   ]
  },
  {
   "cell_type": "code",
   "execution_count": 24,
   "metadata": {},
   "outputs": [
    {
     "name": "stdout",
     "output_type": "stream",
     "text": [
      "enter stringreyy howlee\n",
      "no\n"
     ]
    }
   ],
   "source": [
    "a=input(\"enter string\")\n",
    "b=a.split()\n",
    "a1=b[0]\n",
    "a2=b[1]\n",
    "p=sorted(a1)\n",
    "q=sorted(a2)\n",
    "if p==q:\n",
    "    print(\"yes\")\n",
    "else:\n",
    "    print(\"no\")\n",
    "\n"
   ]
  },
  {
   "cell_type": "code",
   "execution_count": null,
   "metadata": {},
   "outputs": [],
   "source": []
  }
 ],
 "metadata": {
  "kernelspec": {
   "display_name": "Python 3",
   "language": "python",
   "name": "python3"
  },
  "language_info": {
   "codemirror_mode": {
    "name": "ipython",
    "version": 3
   },
   "file_extension": ".py",
   "mimetype": "text/x-python",
   "name": "python",
   "nbconvert_exporter": "python",
   "pygments_lexer": "ipython3",
   "version": "3.7.3"
  }
 },
 "nbformat": 4,
 "nbformat_minor": 2
}
