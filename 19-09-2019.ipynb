{
 "cells": [
  {
   "cell_type": "code",
   "execution_count": 20,
   "metadata": {},
   "outputs": [
    {
     "name": "stdout",
     "output_type": "stream",
     "text": [
      "my name is gopiiam from gunturiam persuing my b.tech in KHIT\n"
     ]
    }
   ],
   "source": [
    "filepath=\"./files/sample.txt\"\n",
    "with open(filepath,'r') as f :\n",
    "    data=f.read()\n",
    "    print(data)\n",
    "#     f.write(\"this is my ile\")\n"
   ]
  },
  {
   "cell_type": "code",
   "execution_count": null,
   "metadata": {},
   "outputs": [],
   "source": [
    "filepath=\"./files/sample.txt\"\n",
    "with open(filepath,'w') as f :\n",
    "        f.write(\"i /n,  am /n, gopi /n\")\n",
    "        "
   ]
  },
  {
   "cell_type": "code",
   "execution_count": 1,
   "metadata": {},
   "outputs": [
    {
     "name": "stdout",
     "output_type": "stream",
     "text": [
      "enter numberc v b\n",
      "c1\n",
      "v100\n",
      "b101\n",
      "count is  0\n"
     ]
    }
   ],
   "source": [
    "a=input(\"enter number\")\n",
    "b=a.split()\n",
    "x=int(input(b[0]))\n",
    "y=int(input(b[1]))\n",
    "z=int(input(b[2]))\n",
    "c=0\n",
    "for i in  range(x,y+1):\n",
    "    if i%z==0:\n",
    "        c=c+1\n",
    "print(\"count is \",c)\n"
   ]
  },
  {
   "cell_type": "code",
   "execution_count": null,
   "metadata": {},
   "outputs": [],
   "source": []
  }
 ],
 "metadata": {
  "kernelspec": {
   "display_name": "Python 3",
   "language": "python",
   "name": "python3"
  },
  "language_info": {
   "codemirror_mode": {
    "name": "ipython",
    "version": 3
   },
   "file_extension": ".py",
   "mimetype": "text/x-python",
   "name": "python",
   "nbconvert_exporter": "python",
   "pygments_lexer": "ipython3",
   "version": "3.7.3"
  }
 },
 "nbformat": 4,
 "nbformat_minor": 2
}
